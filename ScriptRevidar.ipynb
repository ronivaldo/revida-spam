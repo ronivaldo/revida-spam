{
  "nbformat": 4,
  "nbformat_minor": 0,
  "metadata": {
    "colab": {
      "name": "ScriptRevidar.ipynb",
      "provenance": [],
      "collapsed_sections": [],
      "authorship_tag": "ABX9TyPEMmKX+o9m9SYM1pD3+Qng",
      "include_colab_link": true
    },
    "kernelspec": {
      "name": "python3",
      "display_name": "Python 3"
    },
    "language_info": {
      "name": "python"
    }
  },
  "cells": [
    {
      "cell_type": "markdown",
      "metadata": {
        "id": "view-in-github",
        "colab_type": "text"
      },
      "source": [
        "<a href=\"https://colab.research.google.com/github/ronivaldo/revida-spam/blob/main/ScriptRevidar.ipynb\" target=\"_parent\"><img src=\"https://colab.research.google.com/assets/colab-badge.svg\" alt=\"Open In Colab\"/></a>"
      ]
    },
    {
      "cell_type": "code",
      "metadata": {
        "colab": {
          "base_uri": "https://localhost:8080/"
        },
        "id": "sG9_NuSF-Rw0",
        "outputId": "cb409671-994c-43c4-8441-9aa2a7762807"
      },
      "source": [
        "!pip install Faker"
      ],
      "execution_count": 12,
      "outputs": [
        {
          "output_type": "stream",
          "text": [
            "Collecting Faker\n",
            "\u001b[?25l  Downloading https://files.pythonhosted.org/packages/35/e1/af9e5b8eb3e625e006f681f3eab095f4acb5a7c85f5eb3414afb2a30949c/Faker-8.4.0-py3-none-any.whl (1.2MB)\n",
            "\r\u001b[K     |▎                               | 10kB 18.4MB/s eta 0:00:01\r\u001b[K     |▋                               | 20kB 23.1MB/s eta 0:00:01\r\u001b[K     |▉                               | 30kB 26.7MB/s eta 0:00:01\r\u001b[K     |█▏                              | 40kB 29.3MB/s eta 0:00:01\r\u001b[K     |█▍                              | 51kB 32.0MB/s eta 0:00:01\r\u001b[K     |█▊                              | 61kB 26.2MB/s eta 0:00:01\r\u001b[K     |██                              | 71kB 27.5MB/s eta 0:00:01\r\u001b[K     |██▎                             | 81kB 27.5MB/s eta 0:00:01\r\u001b[K     |██▌                             | 92kB 26.3MB/s eta 0:00:01\r\u001b[K     |██▉                             | 102kB 27.1MB/s eta 0:00:01\r\u001b[K     |███                             | 112kB 27.1MB/s eta 0:00:01\r\u001b[K     |███▍                            | 122kB 27.1MB/s eta 0:00:01\r\u001b[K     |███▋                            | 133kB 27.1MB/s eta 0:00:01\r\u001b[K     |████                            | 143kB 27.1MB/s eta 0:00:01\r\u001b[K     |████▏                           | 153kB 27.1MB/s eta 0:00:01\r\u001b[K     |████▌                           | 163kB 27.1MB/s eta 0:00:01\r\u001b[K     |████▊                           | 174kB 27.1MB/s eta 0:00:01\r\u001b[K     |█████                           | 184kB 27.1MB/s eta 0:00:01\r\u001b[K     |█████▎                          | 194kB 27.1MB/s eta 0:00:01\r\u001b[K     |█████▋                          | 204kB 27.1MB/s eta 0:00:01\r\u001b[K     |█████▉                          | 215kB 27.1MB/s eta 0:00:01\r\u001b[K     |██████▏                         | 225kB 27.1MB/s eta 0:00:01\r\u001b[K     |██████▌                         | 235kB 27.1MB/s eta 0:00:01\r\u001b[K     |██████▊                         | 245kB 27.1MB/s eta 0:00:01\r\u001b[K     |███████                         | 256kB 27.1MB/s eta 0:00:01\r\u001b[K     |███████▎                        | 266kB 27.1MB/s eta 0:00:01\r\u001b[K     |███████▋                        | 276kB 27.1MB/s eta 0:00:01\r\u001b[K     |███████▉                        | 286kB 27.1MB/s eta 0:00:01\r\u001b[K     |████████▏                       | 296kB 27.1MB/s eta 0:00:01\r\u001b[K     |████████▍                       | 307kB 27.1MB/s eta 0:00:01\r\u001b[K     |████████▊                       | 317kB 27.1MB/s eta 0:00:01\r\u001b[K     |█████████                       | 327kB 27.1MB/s eta 0:00:01\r\u001b[K     |█████████▎                      | 337kB 27.1MB/s eta 0:00:01\r\u001b[K     |█████████▌                      | 348kB 27.1MB/s eta 0:00:01\r\u001b[K     |█████████▉                      | 358kB 27.1MB/s eta 0:00:01\r\u001b[K     |██████████                      | 368kB 27.1MB/s eta 0:00:01\r\u001b[K     |██████████▍                     | 378kB 27.1MB/s eta 0:00:01\r\u001b[K     |██████████▋                     | 389kB 27.1MB/s eta 0:00:01\r\u001b[K     |███████████                     | 399kB 27.1MB/s eta 0:00:01\r\u001b[K     |███████████▏                    | 409kB 27.1MB/s eta 0:00:01\r\u001b[K     |███████████▌                    | 419kB 27.1MB/s eta 0:00:01\r\u001b[K     |███████████▊                    | 430kB 27.1MB/s eta 0:00:01\r\u001b[K     |████████████                    | 440kB 27.1MB/s eta 0:00:01\r\u001b[K     |████████████▍                   | 450kB 27.1MB/s eta 0:00:01\r\u001b[K     |████████████▋                   | 460kB 27.1MB/s eta 0:00:01\r\u001b[K     |█████████████                   | 471kB 27.1MB/s eta 0:00:01\r\u001b[K     |█████████████▏                  | 481kB 27.1MB/s eta 0:00:01\r\u001b[K     |█████████████▌                  | 491kB 27.1MB/s eta 0:00:01\r\u001b[K     |█████████████▊                  | 501kB 27.1MB/s eta 0:00:01\r\u001b[K     |██████████████                  | 512kB 27.1MB/s eta 0:00:01\r\u001b[K     |██████████████▎                 | 522kB 27.1MB/s eta 0:00:01\r\u001b[K     |██████████████▋                 | 532kB 27.1MB/s eta 0:00:01\r\u001b[K     |██████████████▉                 | 542kB 27.1MB/s eta 0:00:01\r\u001b[K     |███████████████▏                | 552kB 27.1MB/s eta 0:00:01\r\u001b[K     |███████████████▍                | 563kB 27.1MB/s eta 0:00:01\r\u001b[K     |███████████████▊                | 573kB 27.1MB/s eta 0:00:01\r\u001b[K     |████████████████                | 583kB 27.1MB/s eta 0:00:01\r\u001b[K     |████████████████▎               | 593kB 27.1MB/s eta 0:00:01\r\u001b[K     |████████████████▌               | 604kB 27.1MB/s eta 0:00:01\r\u001b[K     |████████████████▉               | 614kB 27.1MB/s eta 0:00:01\r\u001b[K     |█████████████████               | 624kB 27.1MB/s eta 0:00:01\r\u001b[K     |█████████████████▍              | 634kB 27.1MB/s eta 0:00:01\r\u001b[K     |█████████████████▋              | 645kB 27.1MB/s eta 0:00:01\r\u001b[K     |██████████████████              | 655kB 27.1MB/s eta 0:00:01\r\u001b[K     |██████████████████▏             | 665kB 27.1MB/s eta 0:00:01\r\u001b[K     |██████████████████▌             | 675kB 27.1MB/s eta 0:00:01\r\u001b[K     |██████████████████▉             | 686kB 27.1MB/s eta 0:00:01\r\u001b[K     |███████████████████             | 696kB 27.1MB/s eta 0:00:01\r\u001b[K     |███████████████████▍            | 706kB 27.1MB/s eta 0:00:01\r\u001b[K     |███████████████████▋            | 716kB 27.1MB/s eta 0:00:01\r\u001b[K     |████████████████████            | 727kB 27.1MB/s eta 0:00:01\r\u001b[K     |████████████████████▏           | 737kB 27.1MB/s eta 0:00:01\r\u001b[K     |████████████████████▌           | 747kB 27.1MB/s eta 0:00:01\r\u001b[K     |████████████████████▊           | 757kB 27.1MB/s eta 0:00:01\r\u001b[K     |█████████████████████           | 768kB 27.1MB/s eta 0:00:01\r\u001b[K     |█████████████████████▎          | 778kB 27.1MB/s eta 0:00:01\r\u001b[K     |█████████████████████▋          | 788kB 27.1MB/s eta 0:00:01\r\u001b[K     |█████████████████████▉          | 798kB 27.1MB/s eta 0:00:01\r\u001b[K     |██████████████████████▏         | 808kB 27.1MB/s eta 0:00:01\r\u001b[K     |██████████████████████▍         | 819kB 27.1MB/s eta 0:00:01\r\u001b[K     |██████████████████████▊         | 829kB 27.1MB/s eta 0:00:01\r\u001b[K     |███████████████████████         | 839kB 27.1MB/s eta 0:00:01\r\u001b[K     |███████████████████████▎        | 849kB 27.1MB/s eta 0:00:01\r\u001b[K     |███████████████████████▌        | 860kB 27.1MB/s eta 0:00:01\r\u001b[K     |███████████████████████▉        | 870kB 27.1MB/s eta 0:00:01\r\u001b[K     |████████████████████████        | 880kB 27.1MB/s eta 0:00:01\r\u001b[K     |████████████████████████▍       | 890kB 27.1MB/s eta 0:00:01\r\u001b[K     |████████████████████████▊       | 901kB 27.1MB/s eta 0:00:01\r\u001b[K     |█████████████████████████       | 911kB 27.1MB/s eta 0:00:01\r\u001b[K     |█████████████████████████▎      | 921kB 27.1MB/s eta 0:00:01\r\u001b[K     |█████████████████████████▌      | 931kB 27.1MB/s eta 0:00:01\r\u001b[K     |█████████████████████████▉      | 942kB 27.1MB/s eta 0:00:01\r\u001b[K     |██████████████████████████      | 952kB 27.1MB/s eta 0:00:01\r\u001b[K     |██████████████████████████▍     | 962kB 27.1MB/s eta 0:00:01\r\u001b[K     |██████████████████████████▋     | 972kB 27.1MB/s eta 0:00:01\r\u001b[K     |███████████████████████████     | 983kB 27.1MB/s eta 0:00:01\r\u001b[K     |███████████████████████████▏    | 993kB 27.1MB/s eta 0:00:01\r\u001b[K     |███████████████████████████▌    | 1.0MB 27.1MB/s eta 0:00:01\r\u001b[K     |███████████████████████████▊    | 1.0MB 27.1MB/s eta 0:00:01\r\u001b[K     |████████████████████████████    | 1.0MB 27.1MB/s eta 0:00:01\r\u001b[K     |████████████████████████████▎   | 1.0MB 27.1MB/s eta 0:00:01\r\u001b[K     |████████████████████████████▋   | 1.0MB 27.1MB/s eta 0:00:01\r\u001b[K     |████████████████████████████▉   | 1.1MB 27.1MB/s eta 0:00:01\r\u001b[K     |█████████████████████████████▏  | 1.1MB 27.1MB/s eta 0:00:01\r\u001b[K     |█████████████████████████████▍  | 1.1MB 27.1MB/s eta 0:00:01\r\u001b[K     |█████████████████████████████▊  | 1.1MB 27.1MB/s eta 0:00:01\r\u001b[K     |██████████████████████████████  | 1.1MB 27.1MB/s eta 0:00:01\r\u001b[K     |██████████████████████████████▎ | 1.1MB 27.1MB/s eta 0:00:01\r\u001b[K     |██████████████████████████████▌ | 1.1MB 27.1MB/s eta 0:00:01\r\u001b[K     |██████████████████████████████▉ | 1.1MB 27.1MB/s eta 0:00:01\r\u001b[K     |███████████████████████████████▏| 1.1MB 27.1MB/s eta 0:00:01\r\u001b[K     |███████████████████████████████▍| 1.1MB 27.1MB/s eta 0:00:01\r\u001b[K     |███████████████████████████████▊| 1.2MB 27.1MB/s eta 0:00:01\r\u001b[K     |████████████████████████████████| 1.2MB 27.1MB/s eta 0:00:01\r\u001b[K     |████████████████████████████████| 1.2MB 27.1MB/s \n",
            "\u001b[?25hRequirement already satisfied: text-unidecode==1.3 in /usr/local/lib/python3.7/dist-packages (from Faker) (1.3)\n",
            "Requirement already satisfied: python-dateutil>=2.4 in /usr/local/lib/python3.7/dist-packages (from Faker) (2.8.1)\n",
            "Requirement already satisfied: six>=1.5 in /usr/local/lib/python3.7/dist-packages (from python-dateutil>=2.4->Faker) (1.15.0)\n",
            "Installing collected packages: Faker\n",
            "Successfully installed Faker-8.4.0\n"
          ],
          "name": "stdout"
        }
      ]
    },
    {
      "cell_type": "code",
      "metadata": {
        "id": "pLbzbHNa8huR"
      },
      "source": [
        "import requests\n",
        "import urllib3\n",
        "urllib3.disable_warnings(urllib3.exceptions.InsecureRequestWarning)\n",
        "\n",
        "def envia_formulario(email, password):\n",
        "  headers = {\n",
        "      'Connection': 'keep-alive',\n",
        "      'Cache-Control': 'max-age=0',\n",
        "      'Upgrade-Insecure-Requests': '1',\n",
        "      'Origin': 'http://diegomarcano.com',\n",
        "      'Content-Type': 'application/x-www-form-urlencoded',\n",
        "      'User-Agent': 'Mozilla/5.0 (Windows NT 10.0; Win64; x64) AppleWebKit/537.36 (KHTML, like Gecko) Chrome/90.0.4430.212 Safari/537.36',\n",
        "      'Accept': 'text/html,application/xhtml+xml,application/xml;q=0.9,image/avif,image/webp,image/apng,*/*;q=0.8,application/signed-exchange;v=b3;q=0.9',\n",
        "      'Referer': 'http://diegomarcano.com/md/public_html/webmail/webmail/index.php',\n",
        "      'Accept-Language': 'pt-BR,pt;q=0.9,en-US;q=0.8,en;q=0.7,es;q=0.6,mt;q=0.5,fr;q=0.4',\n",
        "  }\n",
        "\n",
        "  data = {\n",
        "    'referer': '/',\n",
        "    'email': email,\n",
        "    'username': email.split('@')[0],\n",
        "    'password': password,\n",
        "    'confirmpassword': password,\n",
        "    'datacheck': 'memomomo@dos11.com'\n",
        "  }\n",
        "\n",
        "  try:\n",
        "    response = requests.post('http://diegomarcano.com/md/public_html/webmail/webmail/HiTman2.php', headers=headers, data=data, verify=False)\n",
        "    response.raise_for_status()\n",
        "    #print('sucesso')\n",
        "    #print(response.text)\n",
        "  except:\n",
        "    #print('erro no envio')\n",
        "    pass"
      ],
      "execution_count": 10,
      "outputs": []
    },
    {
      "cell_type": "code",
      "metadata": {
        "id": "ezdxiC9L9htM"
      },
      "source": [
        "envia_formulario(email='test@test.com', password='98asdfK(.00')"
      ],
      "execution_count": 11,
      "outputs": []
    },
    {
      "cell_type": "code",
      "metadata": {
        "colab": {
          "base_uri": "https://localhost:8080/"
        },
        "id": "5bJDHUFF-aCR",
        "outputId": "6a05e10b-13d8-4022-8477-50908658b718"
      },
      "source": [
        "from faker import Faker\n",
        "fake = Faker('pt_BR')\n",
        "import time\n",
        "\n",
        "for i in range(100):\n",
        "    print(f'{i+1}..', end='')\n",
        "    envia_formulario(email=fake.email(), password=fake.password())\n",
        "    time.sleep(1.0)"
      ],
      "execution_count": null,
      "outputs": [
        {
          "output_type": "stream",
          "text": [
            "1..2..3..4..5..6..7..8..9..10..11..12..13..14..15..16..17..18..19..20..21..22..23..24..25..26..27..28..29..30..31..32..33..34..35..36..37..38..39..40.."
          ],
          "name": "stdout"
        }
      ]
    }
  ]
}